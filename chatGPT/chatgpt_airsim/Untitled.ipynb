{
 "cells": [
  {
   "cell_type": "code",
   "execution_count": 2,
   "id": "f51d251a",
   "metadata": {},
   "outputs": [],
   "source": [
    "from djitellopy import Tello\n",
    "import cv2"
   ]
  },
  {
   "cell_type": "code",
   "execution_count": 7,
   "id": "790f773e",
   "metadata": {},
   "outputs": [
    {
     "name": "stderr",
     "output_type": "stream",
     "text": [
      "[INFO] tello.py - 129 - Tello instance was initialized. Host: '192.168.10.1'. Port: '8889'.\n",
      "[INFO] tello.py - 438 - Send command: 'command'\n",
      "[INFO] tello.py - 462 - Response command: 'ok'\n"
     ]
    }
   ],
   "source": [
    "tello = Tello()\n",
    "tello.connect()"
   ]
  },
  {
   "cell_type": "code",
   "execution_count": 8,
   "id": "9f6f3f45",
   "metadata": {},
   "outputs": [
    {
     "name": "stderr",
     "output_type": "stream",
     "text": [
      "[INFO] tello.py - 438 - Send command: 'takeoff'\n",
      "[INFO] tello.py - 462 - Response takeoff: 'ok'\n"
     ]
    }
   ],
   "source": [
    "tello.takeoff()"
   ]
  },
  {
   "cell_type": "code",
   "execution_count": 9,
   "id": "58ad3425",
   "metadata": {},
   "outputs": [
    {
     "name": "stderr",
     "output_type": "stream",
     "text": [
      "[INFO] tello.py - 438 - Send command: 'cw 180'\n",
      "[INFO] tello.py - 462 - Response cw 180: 'ok'\n"
     ]
    }
   ],
   "source": [
    "tello.rotate_clockwise(180)"
   ]
  },
  {
   "cell_type": "code",
   "execution_count": 10,
   "id": "b3031704",
   "metadata": {},
   "outputs": [
    {
     "name": "stderr",
     "output_type": "stream",
     "text": [
      "[INFO] tello.py - 438 - Send command: 'ccw 180'\n",
      "[INFO] tello.py - 462 - Response ccw 180: 'ok'\n"
     ]
    }
   ],
   "source": [
    "tello.rotate_counter_clockwise(180)"
   ]
  },
  {
   "cell_type": "code",
   "execution_count": 11,
   "id": "891abb57",
   "metadata": {},
   "outputs": [
    {
     "name": "stderr",
     "output_type": "stream",
     "text": [
      "[INFO] tello.py - 438 - Send command: 'forward 80'\n",
      "[INFO] tello.py - 462 - Response forward 80: 'ok'\n"
     ]
    }
   ],
   "source": [
    "tello.move_forward(80)"
   ]
  },
  {
   "cell_type": "code",
   "execution_count": 12,
   "id": "f3c04a82",
   "metadata": {},
   "outputs": [
    {
     "name": "stderr",
     "output_type": "stream",
     "text": [
      "[INFO] tello.py - 438 - Send command: 'land'\n",
      "[INFO] tello.py - 462 - Response land: 'ok'\n"
     ]
    }
   ],
   "source": [
    "tello.land()"
   ]
  },
  {
   "cell_type": "code",
   "execution_count": null,
   "id": "3a7b8c5d",
   "metadata": {},
   "outputs": [],
   "source": []
  }
 ],
 "metadata": {
  "kernelspec": {
   "display_name": "Python 3 (ipykernel)",
   "language": "python",
   "name": "python3"
  },
  "language_info": {
   "codemirror_mode": {
    "name": "ipython",
    "version": 3
   },
   "file_extension": ".py",
   "mimetype": "text/x-python",
   "name": "python",
   "nbconvert_exporter": "python",
   "pygments_lexer": "ipython3",
   "version": "3.9.16"
  }
 },
 "nbformat": 4,
 "nbformat_minor": 5
}
